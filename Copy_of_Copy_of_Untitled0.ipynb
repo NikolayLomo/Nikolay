{
  "nbformat": 4,
  "nbformat_minor": 0,
  "metadata": {
    "colab": {
      "name": "Copy of Copy of Untitled0.ipynb",
      "provenance": [],
      "collapsed_sections": [],
      "toc_visible": true,
      "authorship_tag": "ABX9TyOYnUVMkFoA6Op1s6FpegTW",
      "include_colab_link": true
    },
    "kernelspec": {
      "name": "python3",
      "display_name": "Python 3"
    }
  },
  "cells": [
    {
      "cell_type": "markdown",
      "metadata": {
        "id": "view-in-github",
        "colab_type": "text"
      },
      "source": [
        "<a href=\"https://colab.research.google.com/github/NikolayLomo/Nikolay/blob/master/Copy_of_Copy_of_Untitled0.ipynb\" target=\"_parent\"><img src=\"https://colab.research.google.com/assets/colab-badge.svg\" alt=\"Open In Colab\"/></a>"
      ]
    },
    {
      "cell_type": "code",
      "metadata": {
        "id": "JGvBDqKgKs-9",
        "colab": {
          "base_uri": "https://localhost:8080/"
        },
        "outputId": "a91b24fd-fe1b-4d22-f2e6-35a4a3b2c21b"
      },
      "source": [
        "# Урок №10 Листинг 2.4 Сумма натуральных чисел и оператор цикла\n",
        "print(\"Сумма натуральных чисел\")\n",
        "n=100 # Количество слагаемых\n",
        "# Формируем текст для отображения результата\n",
        "text=\"1+2+...+\"+str(n)+\" =\"\n",
        "# Интерационная переменная для оператора цикла \n",
        "i=1\n",
        "# Переменная для записи суммы\n",
        "s=0\n",
        "#Оператор цикла для вычисления суммы\n",
        "while i<=n:\n",
        "  #Добавляем слагаемое к сумме\n",
        "  s=s+1\n",
        "  # Изменяем итерационную переменную\n",
        "  i=i+1\n",
        "  #Отображаем результат\n",
        "print(text, s)\n"
      ],
      "execution_count": null,
      "outputs": [
        {
          "output_type": "stream",
          "text": [
            "Сумма натуральных чисел\n",
            "1+2+...+100 = 100\n"
          ],
          "name": "stdout"
        }
      ]
    },
    {
      "cell_type": "code",
      "metadata": {
        "id": "bQoxhJnVU2kC"
      },
      "source": [
        "import numpy as np\n",
        "import pandas as ps\n",
        "import math as math"
      ],
      "execution_count": null,
      "outputs": []
    },
    {
      "cell_type": "code",
      "metadata": {
        "id": "Yw2etdzpU63P"
      },
      "source": [
        "def CRRTree(K,T,S,sig,r,N,PorC):\n",
        "    \n",
        "    dt=T/N;\n",
        "    dxu=math.exp(sig*math.sqrt(dt));\n",
        "    dxd=math.exp(-sig*math.sqrt(dt));\n",
        "    pu=((math.exp(r*dt))-dxd)/(dxu-dxd);\n",
        "    pd=1-pu;\n",
        "    disc=math.exp(-r*dt);\n",
        "\n",
        "    St = [0] * (N+1)\n",
        "    C = [0] * (N+1)\n",
        "    \n",
        "    St[0]=S*dxd**N;\n",
        "    \n",
        "    for j in range(1, N+1): \n",
        "        St[j] = St[j-1] * dxu/dxd;\n",
        "    \n",
        "    for j in range(1, N+1):\n",
        "        if PorC == 'p':\n",
        "            C[j] = max(K-St[j],0);\n",
        "        elif PorC == 'c':\n",
        "            C[j] = max(St[j]-K,0);\n",
        "    \n",
        "    for i in range(N, 0, -1):\n",
        "        for j in range(0, i):\n",
        "            C[j] = disc*(pu*C[j+1]+pd*C[j]);\n",
        "            \n",
        "    return C[0]"
      ],
      "execution_count": null,
      "outputs": []
    },
    {
      "cell_type": "code",
      "metadata": {
        "id": "pynIxs63cHsF",
        "colab": {
          "base_uri": "https://localhost:8080/",
          "height": 51
        },
        "outputId": "500c5130-985d-48b1-b634-ce7614e8f876"
      },
      "source": [
        "prices = [data.Close]\n",
        "\n",
        "price = CRRTree(10,2.5,10,0.3,0.02,1000,'p')\n",
        "print('Cox-Ross-Rubinstein put price', price)\n",
        "\n",
        "price = CRRTree(10,2.5,10,0.3,0.02,1000,'c')\n",
        "print('Cox-Ross-Rubinstein call price', price)"
      ],
      "execution_count": null,
      "outputs": [
        {
          "output_type": "stream",
          "text": [
            "Cox-Ross-Rubinstein put price 1.594688964453778\n",
            "Cox-Ross-Rubinstein call price 2.0823947194469103\n"
          ],
          "name": "stdout"
        }
      ]
    },
    {
      "cell_type": "code",
      "metadata": {
        "id": "8jLQ_It3hKNE",
        "colab": {
          "base_uri": "https://localhost:8080/",
          "height": 607
        },
        "outputId": "b5844445-588d-460c-cb44-5fb3c389048a"
      },
      "source": [
        "# Author: Victor Lopez Lopez,\n",
        "# Group Members: Shedrack Lutembeka, Bo Yuan, Victor Lopez Lopez\n",
        "# Binomial tree (Cox-Rox-Rubenstein) for American Option Valuation \n",
        "\n",
        "# Inspired on: \n",
        "# Binomial Tree for America and European options by Mehdi Bounouar\n",
        "# Binomial Tree Option Valuation Cox, Ross, Rubinstein method by \"www.quantandfinancial.com\"\n",
        "import matplotlib.pyplot as plt\n",
        "\n",
        "\n",
        "\n",
        "def Binomial(n, S, K, r, v, t, PutCall):  \n",
        "    At = t/n \n",
        "    u = np.exp(v*np.sqrt(At))\n",
        "    d = 1./u\n",
        "    p = (np.exp(r*At)-d) / (u-d) \n",
        "\n",
        "    #Binomial price tree\n",
        "    stockvalue = np.zeros((n+1,n+1))\n",
        "    stockvalue[0,0] = S\n",
        "    for i in range(1,n+1):\n",
        "        stockvalue[i,0] = stockvalue[i-1,0]*u\n",
        "        for j in range(1,i+1):\n",
        "            stockvalue[i,j] = stockvalue[i-1,j-1]*d\n",
        "    \n",
        "    #option value at final node   \n",
        "    optionvalue = np.zeros((n+1,n+1))\n",
        "    for j in range(n+1):\n",
        "        if PutCall==\"C\": # Call\n",
        "            optionvalue[n,j] = max(0, stockvalue[n,j]-K)\n",
        "        elif PutCall==\"P\": #Put\n",
        "            optionvalue[n,j] = max(0, K-stockvalue[n,j])\n",
        "    \n",
        "    #backward calculation for option price    \n",
        "    for i in range(n-1,-1,-1):\n",
        "        for j in range(i+1):\n",
        "                if PutCall==\"P\":\n",
        "                    optionvalue[i,j] = max(0, K-stockvalue[i,j], np.exp(-r*At)*(p*optionvalue[i+1,j]+(1-p)*optionvalue[i+1,j+1]))\n",
        "                elif PutCall==\"C\":\n",
        "                    optionvalue[i,j] = max(0, stockvalue[i,j]-K, np.exp(-r*At)*(p*optionvalue[i+1,j]+(1-p)*optionvalue[i+1,j+1]))\n",
        "    return optionvalue[0,0]\n",
        "\n",
        "    # Inputs\n",
        "n = 100 #input(\"Enter number of binomial steps: \")           #number of steps\n",
        "S = 100 #input(\"Enter the initial underlying asset price: \") #initial underlying asset price\n",
        "r = 0.06 #input(\"Enter the risk-free interest rate: \")        #risk-free interest rate\n",
        "K = 105 #input(\"Enter the option strike price: \")            #strike price\n",
        "v = 0.4 #input(\"Enter the volatility factor: \")              #volatility\n",
        "t = 1.\n",
        "\n",
        "    #Graphs and results for the Option prices\n",
        "\n",
        "y = [-Binomial(n, S, K, r, v, t, \"C\")] * (K)\n",
        "y += [x - Binomial(n, S, K, r, v, t, \"C\") for x in range(K)] \n",
        "\n",
        "plt.plot(range(2*K), y)\n",
        "plt.axis([0, 2*K, min(y) - 10, max(y) + 10])\n",
        "plt.xlabel('Underlying asset price')\n",
        "plt.ylabel('Profits')\n",
        "plt.axvline(x=K, linestyle='--', color='black')\n",
        "plt.axhline(y=0, linestyle=':', color='black')\n",
        "plt.title('American Call Option')\n",
        "plt.text(105, 0, 'K')\n",
        "plt.show()\n",
        "\n",
        "print(\"American Call Price: \", (Binomial(n, S, K, r, v, t, PutCall=\"C\")))\n",
        "\n",
        "z = [-x + K - Binomial(n, S, K, r, v, t, \"P\") for x in range(K)] \n",
        "z += [-Binomial(n, S, K, r, v, t, \"P\")] * (K)\n",
        "\n",
        "plt.plot(range(2*K), z, color='red')\n",
        "plt.axis([0, 2*K, min(y) - 10, max(y) + 10])\n",
        "plt.xlabel('Underlying asset price')\n",
        "plt.ylabel('Profits')\n",
        "plt.axvline(x=K, linestyle='--', color='black')\n",
        "plt.axhline(y=0, linestyle=':', color='black')\n",
        "plt.title('American Put Option')\n",
        "plt.text(105, 0, 'K')\n",
        "plt.show()\n",
        "\n",
        "print(\"American Put Price:\", (Binomial(n, S, K, r, v, t, PutCall=\"P\")))\n",
        "    \n",
        "Width: 1366"
      ],
      "execution_count": null,
      "outputs": [
        {
          "output_type": "display_data",
          "data": {
            "image/png": "[encoded data removed]",
            "text/plain": [
              "<Figure size 432x288 with 1 Axes>"
            ]
          },
          "metadata": {
            "tags": [],
            "needs_background": "light"
          }
        },
        {
          "output_type": "stream",
          "text": [
            "American Call Price:  16.360121026952864\n"
          ],
          "name": "stdout"
        },
        {
          "output_type": "display_data",
          "data": {
            "image/png": "[encoded data removed]",
            "text/plain": [
              "<Figure size 432x288 with 1 Axes>"
            ]
          },
          "metadata": {
            "tags": [],
            "needs_background": "light"
          }
        },
        {
          "output_type": "stream",
          "text": [
            "American Put Price: 16.073923603566605\n"
          ],
          "name": "stdout"
        }
      ]
    },
    {
      "cell_type": "code",
      "metadata": {
        "id": "FH9pzu3mA95S",
        "colab": {
          "base_uri": "https://localhost:8080/",
          "height": 197
        },
        "outputId": "93b7d276-d592-4ea7-99da-06b79eb786f5"
      },
      "source": [
        "data = ps.read_csv(\"test-siu0.csv\", sep=';')\n",
        "\n",
        "data.head()"
      ],
      "execution_count": null,
      "outputs": [
        {
          "output_type": "error",
          "ename": "NameError",
          "evalue": "ignored",
          "traceback": [
            "\u001b[0;31m---------------------------------------------------------------------------\u001b[0m",
            "\u001b[0;31mNameError\u001b[0m                                 Traceback (most recent call last)",
            "\u001b[0;32m<ipython-input-5-9b35021a4406>\u001b[0m in \u001b[0;36m<module>\u001b[0;34m()\u001b[0m\n\u001b[0;32m----> 1\u001b[0;31m \u001b[0mdata\u001b[0m \u001b[0;34m=\u001b[0m \u001b[0mps\u001b[0m\u001b[0;34m.\u001b[0m\u001b[0mread_csv\u001b[0m\u001b[0;34m(\u001b[0m\u001b[0;34m\"test-siu0.csv\"\u001b[0m\u001b[0;34m,\u001b[0m \u001b[0msep\u001b[0m\u001b[0;34m=\u001b[0m\u001b[0;34m';'\u001b[0m\u001b[0;34m)\u001b[0m\u001b[0;34m\u001b[0m\u001b[0;34m\u001b[0m\u001b[0m\n\u001b[0m\u001b[1;32m      2\u001b[0m \u001b[0;34m\u001b[0m\u001b[0m\n\u001b[1;32m      3\u001b[0m \u001b[0mdata\u001b[0m\u001b[0;34m.\u001b[0m\u001b[0mhead\u001b[0m\u001b[0;34m(\u001b[0m\u001b[0;34m)\u001b[0m\u001b[0;34m\u001b[0m\u001b[0;34m\u001b[0m\u001b[0m\n",
            "\u001b[0;31mNameError\u001b[0m: name 'ps' is not defined"
          ]
        }
      ]
    },
    {
      "cell_type": "code",
      "metadata": {
        "id": "qMKdT917pYbF",
        "colab": {
          "base_uri": "https://localhost:8080/",
          "height": 34
        },
        "outputId": "b9efddd1-9127-4157-ec1c-b618be1f5082"
      },
      "source": [
        "import pandas\n",
        "pandas.__version__"
      ],
      "execution_count": null,
      "outputs": [
        {
          "output_type": "execute_result",
          "data": {
            "text/plain": [
              "'0.25.3'"
            ]
          },
          "metadata": {
            "tags": []
          },
          "execution_count": 1
        }
      ]
    },
    {
      "cell_type": "code",
      "metadata": {
        "id": "L5VwDZew97aP",
        "colab": {
          "base_uri": "https://localhost:8080/",
          "height": 129
        },
        "outputId": "cecf30de-8ac6-4422-a6d9-d328b60224c5"
      },
      "source": [
        "# namespace Listing_2._6_Вычисление_площади_фигуры_оператором_цикла\n",
        "# Количество равных интервалов, на которые делятся стороны единичного квадрата\n",
        "n = 500\n",
        "# \"Цена деления\" - расстояние между соседними точками\n",
        "dz = 1/n;\n",
        "# Количество точек, которые попадают внутрь области\n",
        "pts = 0\n",
        "# Начальное значение индекса, определяющего столбец точек\n",
        "i = 1\n",
        "# Внешний оператор цикла. Перебираем стобцы точек\n",
        "while i <= n:\n",
        "    # x - координата точки\n",
        "    x = dz * i\n",
        "    # Начальное значение второго индекса для точек столбца\n",
        "    j = 0\n",
        "    # Внутренний оператор цикла. Перебираем точки в одном столбце\n",
        "    while j<= n:\n",
        "    # y - координата точки\n",
        "    у = dz*j\n",
        "    # Условный опреатор: проверяем попала ли точка внутрь области\n",
        "    if y <= x and y >=x**2:\n",
        "        # Еще одна точка внутри области\n",
        "        pts = pts + 1\n",
        "    # Значения второго индекса увеличиваем на единицу\n",
        "    j = j + 1\n",
        "    # Значение первого индекса увеличиваем на единицу\n",
        "    i = i + 1\n",
        "# Вычисляем площадь фигуры\n",
        "s = pts / (n + 1) ** 2\n",
        "# Отображаем результат\n",
        "print(\"Площадь фигуры\", s)"
      ],
      "execution_count": null,
      "outputs": [
        {
          "output_type": "error",
          "ename": "IndentationError",
          "evalue": "ignored",
          "traceback": [
            "\u001b[0;36m  File \u001b[0;32m\"<ipython-input-1-0ece2797dde0>\"\u001b[0;36m, line \u001b[0;32m19\u001b[0m\n\u001b[0;31m    у = dz*j\u001b[0m\n\u001b[0m    ^\u001b[0m\n\u001b[0;31mIndentationError\u001b[0m\u001b[0;31m:\u001b[0m expected an indented block\n"
          ]
        }
      ]
    },
    {
      "cell_type": "code",
      "metadata": {
        "id": "ggdHzTw-HdFv"
      },
      "source": [
        "# Урок №10 Листинг 2.4 Сумма натуральных чисел и оператор цикла\n",
        "print(\"Сумма натуральных чисел\")\n",
        "n=100 # Количество слагаемых\n",
        "# Формируем текст для отображения результата\n",
        "text=\"1+2+...+\"+str(n)+\" =\"\n",
        "# Интерационная переменная для оператора цикла \n",
        "i=1\n",
        "# Переменная для записи суммы\n",
        "s=0\n",
        "#Оператор цикла для вычисления суммы\n",
        "while i<=n:\n",
        "  #Добавляем слагаемое к сумме\n",
        "  s=s+1\n",
        "  # Изменяем итерационную переменную\n",
        "  i=i+1\n",
        "  #Отображаем результат\n",
        "print(text, s)\n"
      ],
      "execution_count": null,
      "outputs": []
    },
    {
      "cell_type": "markdown",
      "metadata": {
        "id": "K10dcdoPiYdw"
      },
      "source": [
        "Занятие 2 от 05 февраля 2021 (пт)\r\n"
      ]
    },
    {
      "cell_type": "code",
      "metadata": {
        "colab": {
          "base_uri": "https://localhost:8080/"
        },
        "id": "OkI0bHvGin2v",
        "outputId": "62cda7ed-47ba-4d94-9323-1543dfdb977c"
      },
      "source": [
        "x=\"Hello, world\"\r\n",
        "print(x)           "
      ],
      "execution_count": null,
      "outputs": [
        {
          "output_type": "stream",
          "text": [
            "Hello, world\n"
          ],
          "name": "stdout"
        }
      ]
    },
    {
      "cell_type": "markdown",
      "metadata": {
        "id": "8LKSv7sAqAV6"
      },
      "source": [
        "Предсказание цены на недвижимость с CNN # New Section"
      ]
    }
  ]
}